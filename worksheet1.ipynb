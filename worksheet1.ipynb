{
 "cells": [
  {
   "cell_type": "code",
   "execution_count": 1,
   "id": "8db7128a",
   "metadata": {},
   "outputs": [
    {
     "name": "stdout",
     "output_type": "stream",
     "text": [
      "Hello world\n"
     ]
    }
   ],
   "source": [
    "print(\"Hello world\")\n"
   ]
  },
  {
   "cell_type": "code",
   "execution_count": 2,
   "id": "e1e79fec",
   "metadata": {},
   "outputs": [
    {
     "name": "stdout",
     "output_type": "stream",
     "text": [
      "15\n"
     ]
    }
   ],
   "source": [
    "a=5;\n",
    "b=10;\n",
    "c=a+b;\n",
    "print(c)\n"
   ]
  },
  {
   "cell_type": "code",
   "execution_count": 4,
   "id": "a44fd127",
   "metadata": {},
   "outputs": [
    {
     "name": "stdout",
     "output_type": "stream",
     "text": [
      "ali mughal\n"
     ]
    }
   ],
   "source": [
    "x=\"ali\";\n",
    "y=\" mughal\";\n",
    "z=x+y;\n",
    "print(z)\n",
    "\n"
   ]
  },
  {
   "cell_type": "code",
   "execution_count": 6,
   "id": "904be11e",
   "metadata": {},
   "outputs": [
    {
     "name": "stdout",
     "output_type": "stream",
     "text": [
      "48\n"
     ]
    }
   ],
   "source": [
    "f='4';\n",
    "g='8';\n",
    "h=f+g;\n",
    "print(h);\n"
   ]
  },
  {
   "cell_type": "code",
   "execution_count": 7,
   "id": "85f1e8ba",
   "metadata": {},
   "outputs": [
    {
     "ename": "TypeError",
     "evalue": "can only concatenate str (not \"int\") to str",
     "output_type": "error",
     "traceback": [
      "\u001b[1;31m---------------------------------------------------------------------------\u001b[0m",
      "\u001b[1;31mTypeError\u001b[0m                                 Traceback (most recent call last)",
      "\u001b[1;32m<ipython-input-7-d6591b13bc61>\u001b[0m in \u001b[0;36m<module>\u001b[1;34m\u001b[0m\n\u001b[0;32m      1\u001b[0m \u001b[0ma\u001b[0m\u001b[1;33m=\u001b[0m\u001b[1;34m\"10\"\u001b[0m\u001b[1;33m;\u001b[0m\u001b[1;33m\u001b[0m\u001b[1;33m\u001b[0m\u001b[0m\n\u001b[0;32m      2\u001b[0m \u001b[0mb\u001b[0m\u001b[1;33m=\u001b[0m\u001b[1;36m20\u001b[0m\u001b[1;33m;\u001b[0m\u001b[1;33m\u001b[0m\u001b[1;33m\u001b[0m\u001b[0m\n\u001b[1;32m----> 3\u001b[1;33m \u001b[0mc\u001b[0m\u001b[1;33m=\u001b[0m\u001b[0ma\u001b[0m\u001b[1;33m+\u001b[0m\u001b[0mb\u001b[0m\u001b[1;33m;\u001b[0m\u001b[1;33m\u001b[0m\u001b[1;33m\u001b[0m\u001b[0m\n\u001b[0m\u001b[0;32m      4\u001b[0m \u001b[0mprint\u001b[0m\u001b[1;33m(\u001b[0m\u001b[0mc\u001b[0m\u001b[1;33m)\u001b[0m\u001b[1;33m;\u001b[0m\u001b[1;33m\u001b[0m\u001b[1;33m\u001b[0m\u001b[0m\n",
      "\u001b[1;31mTypeError\u001b[0m: can only concatenate str (not \"int\") to str"
     ]
    }
   ],
   "source": [
    "a=\"10\";\n",
    "b=20;\n",
    "c=a+b;\n",
    "print(c);\n"
   ]
  },
  {
   "cell_type": "code",
   "execution_count": 8,
   "id": "4fffd59f",
   "metadata": {},
   "outputs": [
    {
     "name": "stdout",
     "output_type": "stream",
     "text": [
      "8\n"
     ]
    }
   ],
   "source": [
    "x=8;\n",
    "y=x+7;\n",
    "z=y-x+1\n",
    "print(z);\n"
   ]
  },
  {
   "cell_type": "code",
   "execution_count": null,
   "id": "6704c2a1",
   "metadata": {},
   "outputs": [],
   "source": []
  },
  {
   "cell_type": "code",
   "execution_count": 10,
   "id": "09d4d036",
   "metadata": {},
   "outputs": [
    {
     "name": "stdout",
     "output_type": "stream",
     "text": [
      "55.0\n"
     ]
    }
   ],
   "source": [
    "a=12-4/2+9*5;\n",
    "print(a);"
   ]
  },
  {
   "cell_type": "code",
   "execution_count": 13,
   "id": "c31f46fa",
   "metadata": {},
   "outputs": [
    {
     "name": "stdout",
     "output_type": "stream",
     "text": [
      "3.6363636363636367\n"
     ]
    }
   ],
   "source": [
    "a=((12-4)/(2+9)*5);\n",
    "print(a);"
   ]
  },
  {
   "cell_type": "code",
   "execution_count": 14,
   "id": "ba746142",
   "metadata": {},
   "outputs": [
    {
     "name": "stdout",
     "output_type": "stream",
     "text": [
      "1\n"
     ]
    }
   ],
   "source": [
    "x=10;\n",
    "y=x%3;\n",
    "print(y);"
   ]
  },
  {
   "cell_type": "code",
   "execution_count": 15,
   "id": "62b31745",
   "metadata": {},
   "outputs": [
    {
     "name": "stdout",
     "output_type": "stream",
     "text": [
      "12\n"
     ]
    }
   ],
   "source": [
    "f=10;\n",
    "f=12;\n",
    "print(f);\n"
   ]
  },
  {
   "cell_type": "code",
   "execution_count": 16,
   "id": "66e8b923",
   "metadata": {},
   "outputs": [
    {
     "name": "stdout",
     "output_type": "stream",
     "text": [
      "7\n"
     ]
    }
   ],
   "source": [
    "g=5;\n",
    "g=g+2;\n",
    "print(g);"
   ]
  },
  {
   "cell_type": "code",
   "execution_count": 18,
   "id": "efd55065",
   "metadata": {},
   "outputs": [
    {
     "name": "stdout",
     "output_type": "stream",
     "text": [
      "6\n"
     ]
    }
   ],
   "source": [
    "a=3;\n",
    "a+=3;\n",
    "print(a);"
   ]
  },
  {
   "cell_type": "code",
   "execution_count": 19,
   "id": "7b574c0d",
   "metadata": {},
   "outputs": [
    {
     "name": "stdout",
     "output_type": "stream",
     "text": [
      "6\n"
     ]
    }
   ],
   "source": [
    "a=3;\n",
    "a=a+3;\n",
    "print(a);\n"
   ]
  },
  {
   "cell_type": "code",
   "execution_count": 22,
   "id": "7716955a",
   "metadata": {},
   "outputs": [
    {
     "name": "stdout",
     "output_type": "stream",
     "text": [
      "my name is Wahaj\n"
     ]
    }
   ],
   "source": [
    "a=\" Wahaj\"\n",
    "print(\"my name is\"+a);\n"
   ]
  },
  {
   "cell_type": "code",
   "execution_count": 23,
   "id": "a9dc692e",
   "metadata": {},
   "outputs": [
    {
     "name": "stdout",
     "output_type": "stream",
     "text": [
      "Allow for Ride\n"
     ]
    }
   ],
   "source": [
    "gender=\"male\";\n",
    "if gender==\"male\":\n",
    "    print(\"Allow for Ride\");"
   ]
  },
  {
   "cell_type": "code",
   "execution_count": 52,
   "id": "c005e7e6",
   "metadata": {},
   "outputs": [
    {
     "name": "stdout",
     "output_type": "stream",
     "text": [
      "Rok lo\n"
     ]
    }
   ],
   "source": [
    "gender=\"female\";\n",
    "if gender==\"male\":\n",
    "    print(\"Allow for ride\")\n",
    "else:\n",
    "    print(\"Rok lo\")       \n",
    "        \n",
    "        "
   ]
  },
  {
   "cell_type": "code",
   "execution_count": 3,
   "id": "ee926c28",
   "metadata": {},
   "outputs": [
    {
     "name": "stdout",
     "output_type": "stream",
     "text": [
      "RokLo\n"
     ]
    }
   ],
   "source": [
    "age = 18;\n",
    "gender = \"female\";\n",
    "if age > 18 or gender ==\"male\":\n",
    "    print(\"Allow for Ride\");\n",
    "else:\n",
    "    print(\"Rok Lo\");\n",
    "\n",
    "    "
   ]
  },
  {
   "cell_type": "code",
   "execution_count": 4,
   "id": "1f36c11e",
   "metadata": {},
   "outputs": [
    {
     "name": "stdout",
     "output_type": "stream",
     "text": [
      "Rok lo\n"
     ]
    }
   ],
   "source": [
    "age = 14;\n",
    "gender=\"female\";\n",
    "if age > 18 or gender==\"male\":\n",
    "    print(\"Allow to Ride\");\n",
    "else:\n",
    "    print(\"Rok lo\")"
   ]
  },
  {
   "cell_type": "code",
   "execution_count": 5,
   "id": "9412e52f",
   "metadata": {},
   "outputs": [
    {
     "name": "stdout",
     "output_type": "stream",
     "text": [
      "Grade A\n"
     ]
    }
   ],
   "source": [
    "percent = 80;\n",
    "if percent > 70 or percent < 80:\n",
    "    print(\"Grade A\")"
   ]
  },
  {
   "cell_type": "code",
   "execution_count": null,
   "id": "b0a43492",
   "metadata": {},
   "outputs": [],
   "source": []
  }
 ],
 "metadata": {
  "kernelspec": {
   "display_name": "Python 3",
   "language": "python",
   "name": "python3"
  },
  "language_info": {
   "codemirror_mode": {
    "name": "ipython",
    "version": 3
   },
   "file_extension": ".py",
   "mimetype": "text/x-python",
   "name": "python",
   "nbconvert_exporter": "python",
   "pygments_lexer": "ipython3",
   "version": "3.8.8"
  }
 },
 "nbformat": 4,
 "nbformat_minor": 5
}
