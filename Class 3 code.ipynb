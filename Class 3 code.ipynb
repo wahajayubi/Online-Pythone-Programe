{
 "cells": [
  {
   "cell_type": "code",
   "execution_count": null,
   "id": "d1a867db",
   "metadata": {},
   "outputs": [],
   "source": [
    "eng = input(\"Enter English Marks\");\n",
    "isl = input(\"Enter Islamyat Marks\");\n",
    "maths = input(\"Enter Maths Marks\");\n",
    "total = 300;\n",
    "percent = (eng + isl + maths)/total*100\n",
    "if percent < 100 and percent >= 80:\n",
    "    print(\"A+\");\n",
    "elif percent < 80 and percent >= 70:\n",
    "          print(\"A\");\n",
    "elif percent < 70 and percent >= 60:\n",
    "          print(\"B\");\n",
    "elif percent < 60 and percent >= 50:\n",
    "          print(\"C\");\n",
    "elif percent < 50 and percent >= 40:\n",
    "          print(\"D\");\n",
    "elif percent < 0 and percent > 100:\n",
    "          print(\"You did nor enter correct marks\");\n",
    "elif percent < 40 and percent >= 33:\n",
    "          print(\"F\");\n",
    "else:\n",
    "          print(\"Fail\")\n",
    "\n",
    "                    \n",
    "          "
   ]
  },
  {
   "cell_type": "code",
   "execution_count": 9,
   "id": "16e162f7",
   "metadata": {},
   "outputs": [
    {
     "name": "stdout",
     "output_type": "stream",
     "text": [
      "Enter a value35\n"
     ]
    },
    {
     "ename": "TypeError",
     "evalue": "can only concatenate str (not \"int\") to str",
     "output_type": "error",
     "traceback": [
      "\u001b[1;31m---------------------------------------------------------------------------\u001b[0m",
      "\u001b[1;31mTypeError\u001b[0m                                 Traceback (most recent call last)",
      "\u001b[1;32m<ipython-input-9-2c2ac93f2e2d>\u001b[0m in \u001b[0;36m<module>\u001b[1;34m\u001b[0m\n\u001b[0;32m      1\u001b[0m \u001b[0mx\u001b[0m \u001b[1;33m=\u001b[0m \u001b[0minput\u001b[0m\u001b[1;33m(\u001b[0m\u001b[1;34m\"Enter a value\"\u001b[0m\u001b[1;33m)\u001b[0m\u001b[1;33m;\u001b[0m\u001b[1;33m\u001b[0m\u001b[1;33m\u001b[0m\u001b[0m\n\u001b[0;32m      2\u001b[0m \u001b[0my\u001b[0m \u001b[1;33m=\u001b[0m \u001b[1;36m25\u001b[0m\u001b[1;33m;\u001b[0m\u001b[1;33m\u001b[0m\u001b[1;33m\u001b[0m\u001b[0m\n\u001b[1;32m----> 3\u001b[1;33m \u001b[0mz\u001b[0m \u001b[1;33m=\u001b[0m \u001b[0mx\u001b[0m \u001b[1;33m+\u001b[0m \u001b[0my\u001b[0m\u001b[1;33m;\u001b[0m\u001b[1;33m\u001b[0m\u001b[1;33m\u001b[0m\u001b[0m\n\u001b[0m\u001b[0;32m      4\u001b[0m \u001b[0mprint\u001b[0m\u001b[1;33m(\u001b[0m\u001b[0mz\u001b[0m\u001b[1;33m)\u001b[0m\u001b[1;33m;\u001b[0m\u001b[1;33m\u001b[0m\u001b[1;33m\u001b[0m\u001b[0m\n",
      "\u001b[1;31mTypeError\u001b[0m: can only concatenate str (not \"int\") to str"
     ]
    }
   ],
   "source": [
    "x = input(\"Enter a value\");\n",
    "y = 25;\n",
    "z = x + y;\n",
    "print(z);\n"
   ]
  },
  {
   "cell_type": "code",
   "execution_count": 10,
   "id": "d739f8d6",
   "metadata": {},
   "outputs": [
    {
     "name": "stdout",
     "output_type": "stream",
     "text": [
      "Enter English Marks75\n",
      "Enter Islamyat Marks78\n",
      "Enter Maths Marks95\n",
      "A+\n"
     ]
    }
   ],
   "source": [
    "eng = int(input(\"Enter English Marks\"));\n",
    "isl = int(input(\"Enter Islamyat Marks\"));\n",
    "maths = int(input(\"Enter Maths Marks\"));\n",
    "total = 300;\n",
    "percent = (eng + isl + maths)/total*100\n",
    "if percent < 100 and percent >= 80:\n",
    "    print(\"A+\");\n",
    "elif percent < 80 and percent >= 70:\n",
    "          print(\"A\");\n",
    "elif percent < 70 and percent >= 60:\n",
    "          print(\"B\");\n",
    "elif percent < 60 and percent >= 50:\n",
    "          print(\"C\");\n",
    "elif percent < 50 and percent >= 40:\n",
    "          print(\"D\");\n",
    "elif percent < 0 and percent > 100:\n",
    "          print(\"You did nor enter correct marks\");\n",
    "elif percent < 40 and percent >= 33:\n",
    "          print(\"F\");\n",
    "else:\n",
    "          print(\"Fail\")\n"
   ]
  },
  {
   "cell_type": "code",
   "execution_count": 11,
   "id": "e8bc9a95",
   "metadata": {},
   "outputs": [
    {
     "name": "stdout",
     "output_type": "stream",
     "text": [
      "Enter a value35\n",
      "60\n"
     ]
    }
   ],
   "source": [
    "x = int(input(\"Enter a value\"));\n",
    "y = 25;\n",
    "z = x + y;\n",
    "print(z);"
   ]
  },
  {
   "cell_type": "code",
   "execution_count": 12,
   "id": "5970d8de",
   "metadata": {},
   "outputs": [
    {
     "name": "stdout",
     "output_type": "stream",
     "text": [
      "Enter a value45\n",
      "70\n"
     ]
    }
   ],
   "source": [
    "x = input(\"Enter a value\");\n",
    "y = 25;\n",
    "z = int(x) + y;\n",
    "print(z);\n"
   ]
  },
  {
   "cell_type": "code",
   "execution_count": 13,
   "id": "e841149d",
   "metadata": {},
   "outputs": [
    {
     "name": "stdout",
     "output_type": "stream",
     "text": [
      "9\n"
     ]
    }
   ],
   "source": [
    "x = 3**2\n",
    "print(x);"
   ]
  },
  {
   "cell_type": "code",
   "execution_count": 14,
   "id": "ae732ef2",
   "metadata": {},
   "outputs": [
    {
     "name": "stdout",
     "output_type": "stream",
     "text": [
      "81\n"
     ]
    }
   ],
   "source": [
    "y = 3**4\n",
    "print(y);"
   ]
  },
  {
   "cell_type": "code",
   "execution_count": 18,
   "id": "046e094a",
   "metadata": {},
   "outputs": [
    {
     "name": "stdout",
     "output_type": "stream",
     "text": [
      "24.5\n"
     ]
    }
   ],
   "source": [
    "z = 49/2\n",
    "print(z);"
   ]
  },
  {
   "cell_type": "code",
   "execution_count": 17,
   "id": "eebb37c9",
   "metadata": {},
   "outputs": [
    {
     "name": "stdout",
     "output_type": "stream",
     "text": [
      "hello\n",
      "world\n"
     ]
    }
   ],
   "source": [
    "print(\"hello\\nworld\")\n"
   ]
  },
  {
   "cell_type": "code",
   "execution_count": 19,
   "id": "1546ba2f",
   "metadata": {},
   "outputs": [
    {
     "name": "stdout",
     "output_type": "stream",
     "text": [
      "True\n"
     ]
    }
   ],
   "source": [
    "x = 10;\n",
    "y = 12;\n",
    "a = 30;\n",
    "b = 8;\n",
    "if x+y==a-b:\n",
    "    print(True);\n",
    "else:\n",
    "    print(False);\n",
    "    "
   ]
  },
  {
   "cell_type": "code",
   "execution_count": 8,
   "id": "df00d5f9",
   "metadata": {},
   "outputs": [
    {
     "name": "stdout",
     "output_type": "stream",
     "text": [
      "Enter age16\n",
      "Enter Gendermale\n",
      "Do not Allow\n"
     ]
    }
   ],
   "source": [
    "age = int(input(\"Enter age\"));\n",
    "gender = input(\"Enter Gender\");\n",
    "if age > 18 and gender == \"male\":\n",
    "    print(\"Allow\");\n",
    "else:\n",
    "    print(\"Do not Allow\");"
   ]
  },
  {
   "cell_type": "code",
   "execution_count": 15,
   "id": "cadf9e51",
   "metadata": {},
   "outputs": [
    {
     "name": "stdout",
     "output_type": "stream",
     "text": [
      "18.0\n"
     ]
    }
   ],
   "source": [
    "x = 36/2\n",
    "print(x)\n"
   ]
  },
  {
   "cell_type": "code",
   "execution_count": 17,
   "id": "417b1c79",
   "metadata": {},
   "outputs": [
    {
     "name": "stdout",
     "output_type": "stream",
     "text": [
      "6.222222222222221\n"
     ]
    }
   ],
   "source": [
    "x = 5+6-2*8/9-3\n",
    "print(x)"
   ]
  },
  {
   "cell_type": "code",
   "execution_count": 2,
   "id": "776e4dd2",
   "metadata": {},
   "outputs": [
    {
     "name": "stdout",
     "output_type": "stream",
     "text": [
      "Enter English Marks85\n",
      "Enter Islamyat Marks65\n",
      "Enter Maths Marks92\n",
      "300 242 80.66666666666666 % Grade A\n"
     ]
    }
   ],
   "source": [
    "eng = int(input(\"Enter English Marks\"));\n",
    "isl = int(input(\"Enter Islamyat Marks\"));\n",
    "maths = int(input(\"Enter Maths Marks\"));\n",
    "total = eng + isl +maths\n",
    "grand_total = 300\n",
    "percentage = (total / grand_total) * 100\n",
    "if percentage >= 90 and percentage == 100:\n",
    "    print(grand_total, total, percentage,\"%\", \"Grade A+\");\n",
    "elif percentage >= 80 and percentage < 90:\n",
    "    print(grand_total, total, percentage,\"%\", \"Grade A\")"
   ]
  },
  {
   "cell_type": "code",
   "execution_count": 3,
   "id": "5d76dd3b",
   "metadata": {},
   "outputs": [
    {
     "data": {
      "text/plain": [
       "0"
      ]
     },
     "execution_count": 3,
     "metadata": {},
     "output_type": "execute_result"
    }
   ],
   "source": [
    "12%3\n"
   ]
  },
  {
   "cell_type": "code",
   "execution_count": 4,
   "id": "fa9ce086",
   "metadata": {},
   "outputs": [
    {
     "ename": "TypeError",
     "evalue": "can only concatenate str (not \"int\") to str",
     "output_type": "error",
     "traceback": [
      "\u001b[1;31m---------------------------------------------------------------------------\u001b[0m",
      "\u001b[1;31mTypeError\u001b[0m                                 Traceback (most recent call last)",
      "\u001b[1;32m<ipython-input-4-579396f939fb>\u001b[0m in \u001b[0;36m<module>\u001b[1;34m\u001b[0m\n\u001b[0;32m      1\u001b[0m \u001b[0mn\u001b[0m \u001b[1;33m=\u001b[0m \u001b[1;34m\"adf\"\u001b[0m\u001b[1;33m\u001b[0m\u001b[1;33m\u001b[0m\u001b[0m\n\u001b[0;32m      2\u001b[0m \u001b[0my\u001b[0m \u001b[1;33m=\u001b[0m \u001b[1;36m2\u001b[0m\u001b[1;33m;\u001b[0m\u001b[1;33m\u001b[0m\u001b[1;33m\u001b[0m\u001b[0m\n\u001b[1;32m----> 3\u001b[1;33m \u001b[0mny\u001b[0m \u001b[1;33m=\u001b[0m \u001b[0mn\u001b[0m\u001b[1;33m+\u001b[0m\u001b[0my\u001b[0m\u001b[1;33m;\u001b[0m\u001b[1;33m\u001b[0m\u001b[1;33m\u001b[0m\u001b[0m\n\u001b[0m\u001b[0;32m      4\u001b[0m \u001b[0mprint\u001b[0m\u001b[1;33m(\u001b[0m\u001b[0mny\u001b[0m\u001b[1;33m)\u001b[0m\u001b[1;33m;\u001b[0m\u001b[1;33m\u001b[0m\u001b[1;33m\u001b[0m\u001b[0m\n",
      "\u001b[1;31mTypeError\u001b[0m: can only concatenate str (not \"int\") to str"
     ]
    }
   ],
   "source": [
    "n = \"adf\"\n",
    "y = 2;\n",
    "ny = n+y;\n",
    "print(ny);\n"
   ]
  },
  {
   "cell_type": "code",
   "execution_count": 5,
   "id": "9c5365dd",
   "metadata": {},
   "outputs": [
    {
     "ename": "SyntaxError",
     "evalue": "invalid syntax (<ipython-input-5-648a6a6ffffd>, line 1)",
     "output_type": "error",
     "traceback": [
      "\u001b[1;36m  File \u001b[1;32m\"<ipython-input-5-648a6a6ffffd>\"\u001b[1;36m, line \u001b[1;32m1\u001b[0m\n\u001b[1;33m    Hello World\u001b[0m\n\u001b[1;37m          ^\u001b[0m\n\u001b[1;31mSyntaxError\u001b[0m\u001b[1;31m:\u001b[0m invalid syntax\n"
     ]
    }
   ],
   "source": [
    "Hello World\n"
   ]
  },
  {
   "cell_type": "code",
   "execution_count": null,
   "id": "8adbef1d",
   "metadata": {},
   "outputs": [],
   "source": [
    "question = input(\"What is solid\");\n",
    "if question == \"matter with closely bound molecules\":\n",
    "    print(True);\n",
    "else:\n",
    "    print(False);\n"
   ]
  },
  {
   "cell_type": "code",
   "execution_count": null,
   "id": "fdd4acb5",
   "metadata": {},
   "outputs": [],
   "source": []
  },
  {
   "cell_type": "code",
   "execution_count": null,
   "id": "3679fa39",
   "metadata": {},
   "outputs": [],
   "source": []
  }
 ],
 "metadata": {
  "kernelspec": {
   "display_name": "Python 3",
   "language": "python",
   "name": "python3"
  },
  "language_info": {
   "codemirror_mode": {
    "name": "ipython",
    "version": 3
   },
   "file_extension": ".py",
   "mimetype": "text/x-python",
   "name": "python",
   "nbconvert_exporter": "python",
   "pygments_lexer": "ipython3",
   "version": "3.8.8"
  }
 },
 "nbformat": 4,
 "nbformat_minor": 5
}
