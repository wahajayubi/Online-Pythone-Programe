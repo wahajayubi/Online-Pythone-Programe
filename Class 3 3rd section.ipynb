{
 "cells": [
  {
   "cell_type": "code",
   "execution_count": 1,
   "id": "439982a4",
   "metadata": {},
   "outputs": [
    {
     "name": "stdout",
     "output_type": "stream",
     "text": [
      "['lion', 12, True, 5.69]\n"
     ]
    }
   ],
   "source": [
    "arr = [\"lion\",12,True,5.69];\n",
    "print(arr);"
   ]
  },
  {
   "cell_type": "code",
   "execution_count": 2,
   "id": "b8e3b985",
   "metadata": {},
   "outputs": [
    {
     "name": "stdout",
     "output_type": "stream",
     "text": [
      "['lion', 12, 'Raza', True, 5.69]\n"
     ]
    }
   ],
   "source": [
    "arr.insert(2,\"Raza\");\n",
    "print(arr);"
   ]
  },
  {
   "cell_type": "code",
   "execution_count": 3,
   "id": "721be955",
   "metadata": {},
   "outputs": [
    {
     "name": "stdout",
     "output_type": "stream",
     "text": [
      "['Raza', True]\n"
     ]
    }
   ],
   "source": [
    "arr2 = arr[2:4];\n",
    "print(arr2);"
   ]
  },
  {
   "cell_type": "code",
   "execution_count": 4,
   "id": "5584f663",
   "metadata": {},
   "outputs": [
    {
     "data": {
      "text/plain": [
       "['lion', 12, 'Raza', True, 5.69]"
      ]
     },
     "execution_count": 4,
     "metadata": {},
     "output_type": "execute_result"
    }
   ],
   "source": [
    "arr\n"
   ]
  },
  {
   "cell_type": "code",
   "execution_count": 5,
   "id": "a0043595",
   "metadata": {},
   "outputs": [
    {
     "name": "stdout",
     "output_type": "stream",
     "text": [
      "['Raza', True, 5.69]\n"
     ]
    }
   ],
   "source": [
    "arr3 = arr[2:5];\n",
    "print(arr3);"
   ]
  },
  {
   "cell_type": "code",
   "execution_count": 8,
   "id": "f033728e",
   "metadata": {},
   "outputs": [
    {
     "name": "stdout",
     "output_type": "stream",
     "text": [
      "['lion', 12, 'Raza']\n"
     ]
    }
   ],
   "source": [
    "arr4 = arr[:3];\n",
    "print(arr4);"
   ]
  },
  {
   "cell_type": "code",
   "execution_count": 9,
   "id": "cdae844b",
   "metadata": {},
   "outputs": [
    {
     "name": "stdout",
     "output_type": "stream",
     "text": [
      "['lion', 12, True, 5.69]\n"
     ]
    }
   ],
   "source": [
    "del arr[2];\n",
    "print(arr);"
   ]
  },
  {
   "cell_type": "code",
   "execution_count": 10,
   "id": "6ad5b21f",
   "metadata": {},
   "outputs": [
    {
     "name": "stdout",
     "output_type": "stream",
     "text": [
      "['lion', True, 5.69]\n"
     ]
    }
   ],
   "source": [
    "arr.remove(12);\n",
    "print(arr);\n"
   ]
  },
  {
   "cell_type": "code",
   "execution_count": 11,
   "id": "31859c29",
   "metadata": {},
   "outputs": [
    {
     "name": "stdout",
     "output_type": "stream",
     "text": [
      "['lion', True]\n"
     ]
    }
   ],
   "source": [
    "arr.pop()\n",
    "print(arr);"
   ]
  },
  {
   "cell_type": "code",
   "execution_count": 12,
   "id": "26d6d921",
   "metadata": {},
   "outputs": [
    {
     "data": {
      "text/plain": [
       "['lion', True]"
      ]
     },
     "execution_count": 12,
     "metadata": {},
     "output_type": "execute_result"
    }
   ],
   "source": [
    "arr\n"
   ]
  },
  {
   "cell_type": "code",
   "execution_count": 4,
   "id": "90efd566",
   "metadata": {},
   "outputs": [
    {
     "name": "stdout",
     "output_type": "stream",
     "text": [
      "Enter English Marks95\n",
      "Enter Islamyat Marks98\n",
      "Enter Maths Marks96\n"
     ]
    }
   ],
   "source": [
    "eng = int(input(\"Enter English Marks\"));\n",
    "isl = int(input(\"Enter Islamyat Marks\"));\n",
    "maths = int(input(\"Enter Maths Marks\"));\n",
    "total = eng + isl +maths\n",
    "grand_total = 300\n",
    "percentage = total/grand_total * 100\n",
    "if percentage >= 90 and percentage == 100:\n",
    "    print(\"Grade A+\");\n"
   ]
  },
  {
   "cell_type": "code",
   "execution_count": 1,
   "id": "03a8382b",
   "metadata": {},
   "outputs": [
    {
     "name": "stdout",
     "output_type": "stream",
     "text": [
      "['wah', 'soh', 55, True, 5]\n"
     ]
    }
   ],
   "source": [
    "arr = [\"wah\", \"soh\", 55, True, 5];\n",
    "print(arr);"
   ]
  },
  {
   "cell_type": "code",
   "execution_count": 2,
   "id": "9da8b499",
   "metadata": {},
   "outputs": [
    {
     "name": "stdout",
     "output_type": "stream",
     "text": [
      "['wah', 'soh', 55]\n"
     ]
    }
   ],
   "source": [
    "arr2 = arr[:3];\n",
    "print(arr2);"
   ]
  },
  {
   "cell_type": "code",
   "execution_count": 7,
   "id": "86dac384",
   "metadata": {},
   "outputs": [
    {
     "name": "stdout",
     "output_type": "stream",
     "text": [
      "['wah', 'soh', 55, True, 5, 965]\n"
     ]
    }
   ],
   "source": [
    "arr.append (965);\n",
    "print(arr);"
   ]
  },
  {
   "cell_type": "code",
   "execution_count": 11,
   "id": "32c64d0f",
   "metadata": {},
   "outputs": [
    {
     "name": "stdout",
     "output_type": "stream",
     "text": [
      "['wah', 'soh', 55, True, 5]\n"
     ]
    }
   ],
   "source": [
    "del arr[5];\n",
    "print(arr);"
   ]
  },
  {
   "cell_type": "code",
   "execution_count": 12,
   "id": "edd01d67",
   "metadata": {},
   "outputs": [
    {
     "name": "stdout",
     "output_type": "stream",
     "text": [
      "['wah', 55, True, 5]\n"
     ]
    }
   ],
   "source": [
    "arr.remove(\"soh\");\n",
    "print(arr);"
   ]
  },
  {
   "cell_type": "code",
   "execution_count": 14,
   "id": "2966d781",
   "metadata": {},
   "outputs": [
    {
     "name": "stdout",
     "output_type": "stream",
     "text": [
      "['wah', 55, True, 60, 5]\n"
     ]
    }
   ],
   "source": [
    "arr.insert (3,60);\n",
    "print(arr);"
   ]
  },
  {
   "cell_type": "code",
   "execution_count": 20,
   "id": "c8733807",
   "metadata": {},
   "outputs": [
    {
     "name": "stdout",
     "output_type": "stream",
     "text": [
      "[55, True, 60, 5]\n"
     ]
    }
   ],
   "source": [
    "arr.remove (\"wah\");\n",
    "print(arr);"
   ]
  },
  {
   "cell_type": "code",
   "execution_count": 21,
   "id": "c2cee4c1",
   "metadata": {},
   "outputs": [
    {
     "name": "stdout",
     "output_type": "stream",
     "text": [
      "[55, True, 60]\n"
     ]
    }
   ],
   "source": [
    "arr.pop();\n",
    "print(arr);"
   ]
  },
  {
   "cell_type": "code",
   "execution_count": null,
   "id": "e5fbc6b2",
   "metadata": {},
   "outputs": [],
   "source": []
  }
 ],
 "metadata": {
  "kernelspec": {
   "display_name": "Python 3",
   "language": "python",
   "name": "python3"
  },
  "language_info": {
   "codemirror_mode": {
    "name": "ipython",
    "version": 3
   },
   "file_extension": ".py",
   "mimetype": "text/x-python",
   "name": "python",
   "nbconvert_exporter": "python",
   "pygments_lexer": "ipython3",
   "version": "3.8.8"
  }
 },
 "nbformat": 4,
 "nbformat_minor": 5
}
