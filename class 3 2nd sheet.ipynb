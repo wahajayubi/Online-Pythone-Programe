{
 "cells": [
  {
   "cell_type": "code",
   "execution_count": 2,
   "id": "708f7061",
   "metadata": {},
   "outputs": [
    {
     "name": "stdout",
     "output_type": "stream",
     "text": [
      "Enter age18\n",
      "Enter Gendermale\n",
      "Allow\n"
     ]
    }
   ],
   "source": [
    "age = int(input(\"Enter age\"));\n",
    "gender = input(\"Enter Gender\");\n",
    "if age >= 18 and gender == \"male\":\n",
    "    print(\"Allow\");\n",
    "else:\n",
    "    print(\"Do not Allow\");"
   ]
  },
  {
   "cell_type": "code",
   "execution_count": 3,
   "id": "0d8e69a3",
   "metadata": {},
   "outputs": [
    {
     "name": "stdout",
     "output_type": "stream",
     "text": [
      "Enter age15\n",
      "Enter Gendermale\n",
      "Allow\n"
     ]
    }
   ],
   "source": [
    "age = int(input(\"Enter age\"));\n",
    "gender = input(\"Enter Gender\");\n",
    "if age >= 18 or gender == \"male\":\n",
    "    print(\"Allow\");\n",
    "else:\n",
    "    print(\"Do not Allow\");"
   ]
  },
  {
   "cell_type": "code",
   "execution_count": 1,
   "id": "c3016c89",
   "metadata": {},
   "outputs": [
    {
     "name": "stdout",
     "output_type": "stream",
     "text": [
      "[112, 6]\n"
     ]
    }
   ],
   "source": [
    "#learning list\n",
    "arr = [112,6];\n",
    "print(arr);\n"
   ]
  },
  {
   "cell_type": "code",
   "execution_count": 3,
   "id": "985e21f0",
   "metadata": {},
   "outputs": [
    {
     "name": "stdout",
     "output_type": "stream",
     "text": [
      "Hello World\n"
     ]
    }
   ],
   "source": [
    "\"\"\"We are learning python\n",
    "learning list now\"\"\"\n",
    "print(\"Hello World\");"
   ]
  },
  {
   "cell_type": "markdown",
   "id": "b537a08e",
   "metadata": {},
   "source": []
  },
  {
   "cell_type": "code",
   "execution_count": 6,
   "id": "c0765164",
   "metadata": {},
   "outputs": [
    {
     "name": "stdout",
     "output_type": "stream",
     "text": [
      "Zulqi,Rani,Saadi,Roni,Hadi,Suleman\n"
     ]
    }
   ],
   "source": [
    "name1 = \"Zulqi\";\n",
    "name2 = \"Rani\";\n",
    "name3 = \"Saadi\";\n",
    "name4 = \"Roni\";\n",
    "name5 = \"Hadi\";\n",
    "name6 = \"Suleman\";\n",
    "print(name1+\",\"+name2+\",\"+name3+\",\"+name4+\",\"+name5+\",\"+name6);"
   ]
  },
  {
   "cell_type": "code",
   "execution_count": 7,
   "id": "374184af",
   "metadata": {},
   "outputs": [
    {
     "name": "stdout",
     "output_type": "stream",
     "text": [
      "['Zulqi', 'Rani', 'Saadi', 'Roni', 'Hadi', 'Suleman']\n"
     ]
    }
   ],
   "source": [
    "# List\n",
    "name = [\"Zulqi\",\"Rani\",\"Saadi\",\"Roni\",\"Hadi\",\"Suleman\"];\n",
    "print(name)"
   ]
  },
  {
   "cell_type": "code",
   "execution_count": 8,
   "id": "6a364d83",
   "metadata": {},
   "outputs": [
    {
     "name": "stdout",
     "output_type": "stream",
     "text": [
      "Zulqi\n"
     ]
    }
   ],
   "source": [
    "print(name[0]);"
   ]
  },
  {
   "cell_type": "code",
   "execution_count": 10,
   "id": "24e5752d",
   "metadata": {},
   "outputs": [
    {
     "name": "stdout",
     "output_type": "stream",
     "text": [
      "Rani\n"
     ]
    }
   ],
   "source": [
    "print(name[1]);"
   ]
  },
  {
   "cell_type": "code",
   "execution_count": 11,
   "id": "099d2210",
   "metadata": {},
   "outputs": [
    {
     "name": "stdout",
     "output_type": "stream",
     "text": [
      "['Zulqi', 'Rani', 'Saadi', 'Roni', 'Hadi', 'Suleman', 'Ahmed']\n"
     ]
    }
   ],
   "source": [
    "name.append('Ahmed');\n",
    "print(name);"
   ]
  },
  {
   "cell_type": "code",
   "execution_count": 13,
   "id": "28466c6a",
   "metadata": {},
   "outputs": [
    {
     "name": "stdout",
     "output_type": "stream",
     "text": [
      "['lion', 12, True, 5.69]\n"
     ]
    }
   ],
   "source": [
    "arr = [\"lion\",12,True,5.69];\n",
    "print(arr);"
   ]
  },
  {
   "cell_type": "markdown",
   "id": "e48431df",
   "metadata": {},
   "source": []
  },
  {
   "cell_type": "code",
   "execution_count": 14,
   "id": "5e77ea77",
   "metadata": {},
   "outputs": [
    {
     "data": {
      "text/plain": [
       "['Zulqi', 'Rani', 'Saadi', 'Roni', 'Hadi', 'Suleman', 'Ahmed']"
      ]
     },
     "execution_count": 14,
     "metadata": {},
     "output_type": "execute_result"
    }
   ],
   "source": [
    "name"
   ]
  },
  {
   "cell_type": "code",
   "execution_count": 16,
   "id": "1147f125",
   "metadata": {},
   "outputs": [
    {
     "name": "stdout",
     "output_type": "stream",
     "text": [
      "['Zulqi', 'Rani', 'Saadi', 'Roni', 'Hadi', 'Suleman', 'Ahmed', 'lion', 12, True, 5.69]\n"
     ]
    }
   ],
   "source": [
    "newList = name + arr;\n",
    "print(newList);"
   ]
  },
  {
   "cell_type": "markdown",
   "id": "6e10f5db",
   "metadata": {},
   "source": []
  },
  {
   "cell_type": "code",
   "execution_count": 18,
   "id": "9b26ecb5",
   "metadata": {},
   "outputs": [
    {
     "name": "stdout",
     "output_type": "stream",
     "text": [
      "None\n"
     ]
    }
   ],
   "source": [
    "name = name.insert(3,\"Waheed\");\n",
    "print(name);"
   ]
  },
  {
   "cell_type": "code",
   "execution_count": 14,
   "id": "7e0d852f",
   "metadata": {},
   "outputs": [
    {
     "name": "stdout",
     "output_type": "stream",
     "text": [
      "Welcome home, Wahaj!\n"
     ]
    }
   ],
   "source": [
    "# we are a team.\n",
    "first_name = \"Wahaj\";\n",
    "last_name = \"Khan\";\n",
    "interst = \"accounts\";\n",
    "# we will learn.\n",
    "if first_name == \"Wahaj\":\n",
    "    if last_name == \"Khan\":\n",
    "        if interst == \"accounts\":\n",
    "            print(\"Welcome home, Wahaj!\"); # Greetings.\n"
   ]
  },
  {
   "cell_type": "code",
   "execution_count": 15,
   "id": "50cd0616",
   "metadata": {},
   "outputs": [
    {
     "name": "stdout",
     "output_type": "stream",
     "text": [
      "Welcome home, Wahaj!\n"
     ]
    }
   ],
   "source": [
    "\"\"\"we are going to see what happens \n",
    "kljhjkhjkgjkgjkgjkgjkgj.j.j.b.nmb.b\n",
    "\"\"\"\n",
    "first_name = \"Wahaj\";\n",
    "last_name = \"Khan\";\n",
    "interst = \"accounts\";\n",
    "# we will learn.\n",
    "if first_name == \"Wahaj\":\n",
    "    if last_name == \"Khan\":\n",
    "        if interst == \"accounts\":\n",
    "            print(\"Welcome home, Wahaj!\"); # Greetings.\n"
   ]
  },
  {
   "cell_type": "code",
   "execution_count": 16,
   "id": "712ffa4c",
   "metadata": {},
   "outputs": [
    {
     "name": "stdout",
     "output_type": "stream",
     "text": [
      "Pakistan,India,England,Australia,Newzealand,Srilanka,\n"
     ]
    }
   ],
   "source": [
    "country_1 = \"Pakistan\";\n",
    "country_2 = \"India\";\n",
    "country_3 = \"England\";\n",
    "country_4 = \"Australia\";\n",
    "country_5 = \"Newzealand\";\n",
    "country_6 = \"Srilanka\";\n",
    "print(country_1+\",\"+country_2+\",\"+country_3+\",\"+country_4+\",\"+country_5+\",\"+country_6+\",\")"
   ]
  },
  {
   "cell_type": "code",
   "execution_count": 19,
   "id": "4071bd87",
   "metadata": {},
   "outputs": [
    {
     "name": "stdout",
     "output_type": "stream",
     "text": [
      "['Pakistan', 'India', 'England', 'Australia', 'Newzealand', 'Srilanka', 'Westindies']\n"
     ]
    }
   ],
   "source": [
    "countries = [\"Pakistan\",\"India\",\"England\",\"Australia\",\"Newzealand\",\"Srilanka\",\"Westindies\"]\n",
    "print(countries);"
   ]
  },
  {
   "cell_type": "code",
   "execution_count": 20,
   "id": "e1422fc1",
   "metadata": {},
   "outputs": [
    {
     "name": "stdout",
     "output_type": "stream",
     "text": [
      "['Pakistan', 'India', 'England', 'Australia', 'Newzealand', 'Srilanka', 'Westindies', 'Nepal']\n"
     ]
    }
   ],
   "source": [
    "countries.append(\"Nepal\")\n",
    "print(countries);"
   ]
  },
  {
   "cell_type": "code",
   "execution_count": 22,
   "id": "86c163d3",
   "metadata": {},
   "outputs": [
    {
     "name": "stdout",
     "output_type": "stream",
     "text": [
      "['Pakistan', 'India', 'England', 'Australia', 'Newzealand', 'Srilanka', 'Westindies', 'Nepal', 'Islamabad', 'Delhi', 'London', 'Canbera', 'Auckland', 'Columbo', 'Antiga', 'Khatmandoo']\n"
     ]
    }
   ],
   "source": [
    "cities = [\"Islamabad\", \"Delhi\", \"London\", \"Canbera\", \"Auckland\", \"Columbo\",\"Antiga\",\"Khatmandoo\"]\n",
    "new_list = countries + cities\n",
    "print(new_list);\n"
   ]
  },
  {
   "cell_type": "code",
   "execution_count": 23,
   "id": "171bee82",
   "metadata": {},
   "outputs": [
    {
     "name": "stdout",
     "output_type": "stream",
     "text": [
      "['Pakistan', 'England', 'Australia', 'Newzealand', 'Srilanka', 'Westindies', 'Nepal', 'Islamabad', 'Delhi', 'London', 'Canbera', 'Auckland', 'Columbo', 'Antiga', 'Khatmandoo']\n"
     ]
    }
   ],
   "source": [
    "new_list.remove(\"India\");\n",
    "print(new_list);"
   ]
  },
  {
   "cell_type": "code",
   "execution_count": 29,
   "id": "772ea614",
   "metadata": {},
   "outputs": [
    {
     "name": "stdout",
     "output_type": "stream",
     "text": [
      "['Australia', 'Newzealand', 'Srilanka', 'Westindies']\n"
     ]
    }
   ],
   "source": [
    "new_list1= new_list[2:6];\n",
    "print(new_list1);"
   ]
  },
  {
   "cell_type": "code",
   "execution_count": 30,
   "id": "7835795b",
   "metadata": {},
   "outputs": [
    {
     "name": "stdout",
     "output_type": "stream",
     "text": [
      "['Australia', 'Srilanka', 'Westindies']\n"
     ]
    }
   ],
   "source": [
    "del new_list1[1];\n",
    "print(new_list1);"
   ]
  },
  {
   "cell_type": "code",
   "execution_count": 34,
   "id": "ddb61527",
   "metadata": {},
   "outputs": [
    {
     "name": "stdout",
     "output_type": "stream",
     "text": [
      "['Australia', 'Westindies']\n"
     ]
    }
   ],
   "source": [
    "new_list1.remove(\"Srilanka\");\n",
    "print(new_list1);"
   ]
  },
  {
   "cell_type": "code",
   "execution_count": 35,
   "id": "a3e3a94b",
   "metadata": {},
   "outputs": [
    {
     "name": "stdout",
     "output_type": "stream",
     "text": [
      "['Australia', 'Westindies', 'Srilanka']\n"
     ]
    }
   ],
   "source": [
    "new_list1.append(\"Srilanka\");\n",
    "print(new_list1);"
   ]
  },
  {
   "cell_type": "code",
   "execution_count": 37,
   "id": "8a028240",
   "metadata": {},
   "outputs": [
    {
     "name": "stdout",
     "output_type": "stream",
     "text": [
      "['Australia', 'Westindies']\n"
     ]
    }
   ],
   "source": [
    "new_list1.pop();\n",
    "print(new_list1);"
   ]
  },
  {
   "cell_type": "code",
   "execution_count": 3,
   "id": "1bb9b4dc",
   "metadata": {},
   "outputs": [
    {
     "name": "stdout",
     "output_type": "stream",
     "text": [
      "What is solidmatter with closely bound molecules\n",
      "True\n"
     ]
    }
   ],
   "source": [
    "question = input(\"What is solid\");\n",
    "if question == \"matter with closely bound molecules\":\n",
    "    print(True);\n",
    "else:\n",
    "    print(False);\n"
   ]
  },
  {
   "cell_type": "code",
   "execution_count": null,
   "id": "75401510",
   "metadata": {},
   "outputs": [],
   "source": []
  },
  {
   "cell_type": "code",
   "execution_count": null,
   "id": "03f63873",
   "metadata": {},
   "outputs": [],
   "source": []
  }
 ],
 "metadata": {
  "kernelspec": {
   "display_name": "Python 3",
   "language": "python",
   "name": "python3"
  },
  "language_info": {
   "codemirror_mode": {
    "name": "ipython",
    "version": 3
   },
   "file_extension": ".py",
   "mimetype": "text/x-python",
   "name": "python",
   "nbconvert_exporter": "python",
   "pygments_lexer": "ipython3",
   "version": "3.8.8"
  }
 },
 "nbformat": 4,
 "nbformat_minor": 5
}
