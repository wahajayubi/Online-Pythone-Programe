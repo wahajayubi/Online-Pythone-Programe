{
 "cells": [
  {
   "cell_type": "code",
   "execution_count": 3,
   "id": "2b82c6e9",
   "metadata": {},
   "outputs": [
    {
     "name": "stdout",
     "output_type": "stream",
     "text": [
      "Grade A+\n"
     ]
    }
   ],
   "source": [
    "percent=82;\n",
    "if percentage < 100 and percentage > 80:\n",
    "    print(\"Grade A+\");\n",
    "elif percentage < 80 and percentage > 70:\n",
    "    print(\"Grade A\");\n",
    "elif percentage < 70 and percentage > 60:\n",
    "    print(\"Grade B\");\n",
    "elif percentage < 60 and percentage > 50:\n",
    "    print(\"Grade C\");\n",
    "elif percentage < 50 and percentage > 40:\n",
    "    print(\"Grade D\");\n",
    "elif percentage < 40 and percentage > 33:\n",
    "    print(\"Grade E\");\n",
    "else:\n",
    "    print(\"Fail\");\n"
   ]
  },
  {
   "cell_type": "code",
   "execution_count": 4,
   "id": "df17f46d",
   "metadata": {},
   "outputs": [
    {
     "name": "stdout",
     "output_type": "stream",
     "text": [
      "Grade A\n"
     ]
    }
   ],
   "source": [
    "percent=72;\n",
    "if percent < 100 and percent > 80:\n",
    "    print(\"Grade A+\");\n",
    "elif percent < 80 and percent > 70:\n",
    "    print(\"Grade A\");\n",
    "elif percent < 70 and percent > 60:\n",
    "    print(\"Grade B\");\n",
    "elif percent < 60 and percent > 50:\n",
    "    print(\"Grade C\");\n",
    "elif percent < 50 and percent > 40:\n",
    "    print(\"Grade D\");\n",
    "elif percent < 40 and percent > 33:\n",
    "    print(\"Grade E\");\n",
    "else:\n",
    "    print(\"Fail\");\n"
   ]
  },
  {
   "cell_type": "code",
   "execution_count": 5,
   "id": "c82c8421",
   "metadata": {},
   "outputs": [
    {
     "name": "stdout",
     "output_type": "stream",
     "text": [
      "Grade B\n"
     ]
    }
   ],
   "source": [
    "percent=62;\n",
    "if percent < 100 and percent > 80:\n",
    "    print(\"Grade A+\");\n",
    "elif percent < 80 and percent > 70:\n",
    "    print(\"Grade A\");\n",
    "elif percent < 70 and percent > 60:\n",
    "    print(\"Grade B\");\n",
    "elif percent < 60 and percent > 50:\n",
    "    print(\"Grade C\");\n",
    "elif percent < 50 and percent > 40:\n",
    "    print(\"Grade D\");\n",
    "elif percent < 40 and percent > 33:\n",
    "    print(\"Grade E\");\n",
    "else:\n",
    "    print(\"Fail\");\n"
   ]
  },
  {
   "cell_type": "code",
   "execution_count": 6,
   "id": "70270fba",
   "metadata": {},
   "outputs": [
    {
     "name": "stdout",
     "output_type": "stream",
     "text": [
      "Grade C\n"
     ]
    }
   ],
   "source": [
    "percent=52;\n",
    "if percent < 100 and percent > 80:\n",
    "    print(\"Grade A+\");\n",
    "elif percent < 80 and percent > 70:\n",
    "    print(\"Grade A\");\n",
    "elif percent < 70 and percent > 60:\n",
    "    print(\"Grade B\");\n",
    "elif percent < 60 and percent > 50:\n",
    "    print(\"Grade C\");\n",
    "elif percent < 50 and percent > 40:\n",
    "    print(\"Grade D\");\n",
    "elif percent < 40 and percent > 33:\n",
    "    print(\"Grade E\");\n",
    "else:\n",
    "    print(\"Fail\");\n"
   ]
  },
  {
   "cell_type": "code",
   "execution_count": 7,
   "id": "f7f1d9df",
   "metadata": {},
   "outputs": [
    {
     "name": "stdout",
     "output_type": "stream",
     "text": [
      "Grade D\n"
     ]
    }
   ],
   "source": [
    "percent=42;\n",
    "if percent < 100 and percent > 80:\n",
    "    print(\"Grade A+\");\n",
    "elif percent < 80 and percent > 70:\n",
    "    print(\"Grade A\");\n",
    "elif percent < 70 and percent > 60:\n",
    "    print(\"Grade B\");\n",
    "elif percent < 60 and percent > 50:\n",
    "    print(\"Grade C\");\n",
    "elif percent < 50 and percent > 40:\n",
    "    print(\"Grade D\");\n",
    "elif percent < 40 and percent > 33:\n",
    "    print(\"Grade E\");\n",
    "else:\n",
    "    print(\"Fail\");\n"
   ]
  },
  {
   "cell_type": "code",
   "execution_count": 8,
   "id": "5c8d2dc2",
   "metadata": {},
   "outputs": [
    {
     "name": "stdout",
     "output_type": "stream",
     "text": [
      "Grade E\n"
     ]
    }
   ],
   "source": [
    "percent=34;\n",
    "if percent < 100 and percent > 80:\n",
    "    print(\"Grade A+\");\n",
    "elif percent < 80 and percent > 70:\n",
    "    print(\"Grade A\");\n",
    "elif percent < 70 and percent > 60:\n",
    "    print(\"Grade B\");\n",
    "elif percent < 60 and percent > 50:\n",
    "    print(\"Grade C\");\n",
    "elif percent < 50 and percent > 40:\n",
    "    print(\"Grade D\");\n",
    "elif percent < 40 and percent > 33:\n",
    "    print(\"Grade E\");\n",
    "else:\n",
    "    print(\"Fail\");\n"
   ]
  },
  {
   "cell_type": "code",
   "execution_count": 9,
   "id": "2c081e15",
   "metadata": {},
   "outputs": [
    {
     "name": "stdout",
     "output_type": "stream",
     "text": [
      "Fail\n"
     ]
    }
   ],
   "source": [
    "percent=28;\n",
    "if percent < 100 and percent > 80:\n",
    "    print(\"Grade A+\");\n",
    "elif percent < 80 and percent > 70:\n",
    "    print(\"Grade A\");\n",
    "elif percent < 70 and percent > 60:\n",
    "    print(\"Grade B\");\n",
    "elif percent < 60 and percent > 50:\n",
    "    print(\"Grade C\");\n",
    "elif percent < 50 and percent > 40:\n",
    "    print(\"Grade D\");\n",
    "elif percent < 40 and percent > 33:\n",
    "    print(\"Grade E\");\n",
    "else:\n",
    "    print(\"Fail\");\n"
   ]
  },
  {
   "cell_type": "code",
   "execution_count": 10,
   "id": "90a080c9",
   "metadata": {},
   "outputs": [
    {
     "name": "stdout",
     "output_type": "stream",
     "text": [
      "Fail\n"
     ]
    }
   ],
   "source": []
  },
  {
   "cell_type": "code",
   "execution_count": null,
   "id": "98bde563",
   "metadata": {},
   "outputs": [],
   "source": []
  }
 ],
 "metadata": {
  "kernelspec": {
   "display_name": "Python 3",
   "language": "python",
   "name": "python3"
  },
  "language_info": {
   "codemirror_mode": {
    "name": "ipython",
    "version": 3
   },
   "file_extension": ".py",
   "mimetype": "text/x-python",
   "name": "python",
   "nbconvert_exporter": "python",
   "pygments_lexer": "ipython3",
   "version": "3.8.8"
  }
 },
 "nbformat": 4,
 "nbformat_minor": 5
}
